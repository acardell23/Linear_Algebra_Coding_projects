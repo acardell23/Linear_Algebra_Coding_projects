{
  "nbformat": 4,
  "nbformat_minor": 0,
  "metadata": {
    "colab": {
      "name": "Copy of Gram Schmidt Process part 2.ipynb",
      "provenance": [],
      "authorship_tag": "ABX9TyMWwSplCk1ERR1pDlJAo+Ll",
      "include_colab_link": true
    },
    "kernelspec": {
      "name": "python3",
      "display_name": "Python 3"
    },
    "language_info": {
      "name": "python"
    }
  },
  "cells": [
    {
      "cell_type": "markdown",
      "metadata": {
        "id": "view-in-github",
        "colab_type": "text"
      },
      "source": [
        "<a href=\"https://colab.research.google.com/github/acardell23/Linear_Algebra_Coding_projects/blob/main/Gram_Schmidt_Process_part_2.ipynb\" target=\"_parent\"><img src=\"https://colab.research.google.com/assets/colab-badge.svg\" alt=\"Open In Colab\"/></a>"
      ]
    },
    {
      "cell_type": "code",
      "metadata": {
        "id": "BQuT2nJyaREP"
      },
      "source": [
        "import matplotlib.pyplot as plt\n",
        "from sympy import Poly\n",
        "import sympy as sym\n",
        "import numpy as np\n",
        "from numpy import c_\n",
        "\n",
        "# We'll specify that x and t are variables:\n",
        "x, t = sym.symbols('x, t')\n",
        "\n",
        "ll = \"loaded\""
      ],
      "execution_count": null,
      "outputs": []
    },
    {
      "cell_type": "code",
      "metadata": {
        "colab": {
          "base_uri": "https://localhost:8080/"
        },
        "id": "RRRo7ng-a5hb",
        "outputId": "ecd3cc24-7bbb-4c77-ef50-b5c3df518e6b"
      },
      "source": [
        "# define the \"messy\" vectors:\n",
        "\n",
        "r1 = [ 3, 0, 3, 0 ]\n",
        "r2 = [ 3, 2, 3, 3 ]\n",
        "r3 = [ -7, -4, -5, -6 ]\n",
        "r4 = [ -7, -3, -11, 2 ]\n",
        "\n",
        "# look at r1:\n",
        "\n",
        "r1"
      ],
      "execution_count": null,
      "outputs": [
        {
          "output_type": "execute_result",
          "data": {
            "text/plain": [
              "[3, 0, 3, 0]"
            ]
          },
          "metadata": {
            "tags": []
          },
          "execution_count": 7
        }
      ]
    },
    {
      "cell_type": "code",
      "metadata": {
        "colab": {
          "base_uri": "https://localhost:8080/"
        },
        "id": "Vii1Afv2cPFK",
        "outputId": "53af48b1-ea15-48d7-c435-d5eeea82aa85"
      },
      "source": [
        "# find the first nice basis vector u1:\n",
        "\n",
        "# 1: pick a new vector\n",
        "\n",
        "r1\n",
        "\n",
        "# 2: subtract the projection of r1 onto the nice basis u1, u2, u3...\n",
        "#    save this as a temporary vector n1\n",
        "\n",
        "n1 = r1\n",
        "\n",
        "n1\n",
        "\n",
        "# 3: find the magnitude of n1 \n",
        "\n",
        "np.dot(n1, n1)\n",
        "np.sqrt(np.dot(n1, n1))\n",
        "\n",
        "# 4: create the nice basis vector u1 : 1/|n1| * n1\n",
        "\n",
        "u1 = n1 / np.sqrt(np.dot(n1,n1))\n",
        "u1\n"
      ],
      "execution_count": null,
      "outputs": [
        {
          "output_type": "execute_result",
          "data": {
            "text/plain": [
              "array([0.70710678, 0.        , 0.70710678, 0.        ])"
            ]
          },
          "metadata": {
            "tags": []
          },
          "execution_count": 13
        }
      ]
    },
    {
      "cell_type": "code",
      "metadata": {
        "colab": {
          "base_uri": "https://localhost:8080/"
        },
        "id": "vPh5vEixecDm",
        "outputId": "c8f43768-695a-4e97-9e94-5b415359bf48"
      },
      "source": [
        "# find the second nice basis vector u2:\n",
        "\n",
        "# 1: pick a new vector\n",
        "\n",
        "r2\n",
        "\n",
        "# 2: subtract the projection of r2 onto the nice basis u1, u2, u3...\n",
        "#    save this as a temporary vector n2\n",
        "\n",
        "n2 = r2 - np.dot(r2, u1) * u1\n",
        "\n",
        "n2\n",
        "\n",
        "# 3: find the magnitude of n2 \n",
        "\n",
        "np.dot(n2, n2)\n",
        "np.sqrt(np.dot(n2, n2))\n",
        "\n",
        "# 4: create the nice basis vector u2 : 1/|n2| * n2\n",
        "\n",
        "u2 = n2 / np.sqrt(np.dot(n2,n2))\n",
        "u2"
      ],
      "execution_count": null,
      "outputs": [
        {
          "output_type": "execute_result",
          "data": {
            "text/plain": [
              "array([-1.23168186e-16,  5.54700196e-01, -1.23168186e-16,  8.32050294e-01])"
            ]
          },
          "metadata": {
            "tags": []
          },
          "execution_count": 16
        }
      ]
    },
    {
      "cell_type": "code",
      "metadata": {
        "colab": {
          "base_uri": "https://localhost:8080/"
        },
        "id": "UIqN3GHCgJbX",
        "outputId": "cb8434e7-6dea-4361-8fa8-e7fae4f9e3f6"
      },
      "source": [
        "# find the second nice basis vector u3:\n",
        "\n",
        "# 1: pick a new vector\n",
        "\n",
        "r3\n",
        "\n",
        "# 2: subtract the projection of r3 onto the nice basis u1, u2, u3...\n",
        "#    save this as a temporary vector n3\n",
        "\n",
        "n3 = r3 - np.dot(r3, u1) * u1 - np.dot(r3, u2) * u2\n",
        "\n",
        "n3\n",
        "\n",
        "# 3: find the magnitude of n3 \n",
        "\n",
        "np.dot(n3, n3)\n",
        "np.sqrt(np.dot(n3, n3))\n",
        "\n",
        "# 4: create the nice basis vector u3 : 1/|n3| * n3\n",
        "\n",
        "u3 = n3 / np.sqrt(np.dot(n3,n3))\n",
        "u3"
      ],
      "execution_count": null,
      "outputs": [
        {
          "output_type": "execute_result",
          "data": {
            "text/plain": [
              "array([-7.07106781e-01, -3.14018492e-16,  7.07106781e-01, -6.28036983e-16])"
            ]
          },
          "metadata": {
            "tags": []
          },
          "execution_count": 19
        }
      ]
    },
    {
      "cell_type": "code",
      "metadata": {
        "colab": {
          "base_uri": "https://localhost:8080/"
        },
        "id": "gPYZL9gGhTiw",
        "outputId": "056a6255-6836-4b8e-bc61-f22e91a7eb7e"
      },
      "source": [
        "# find the second nice basis vector u4:\n",
        "\n",
        "# 1: pick a new vector\n",
        "\n",
        "r4\n",
        "\n",
        "# 2: subtract the projection of r4 onto the nice basis u1, u2, u3...\n",
        "#    save this as a temporary vector n4\n",
        "\n",
        "n4 = r4 - np.dot(r4, u1) * u1 - np.dot(r4, u2) * u2 - np.dot(r4, u3) * u3\n",
        "\n",
        "n4\n",
        "\n",
        "# 3: find the magnitude of n4 \n",
        "\n",
        "np.dot(n4, n4)\n",
        "np.sqrt(np.dot(n4, n4))\n",
        "\n",
        "# 4: create the nice basis vector u4 : 1/|n4| * n4\n",
        "\n",
        "u4 = n4 / np.sqrt(np.dot(n4,n4))\n",
        "u4"
      ],
      "execution_count": null,
      "outputs": [
        {
          "output_type": "execute_result",
          "data": {
            "text/plain": [
              "array([-1.23168186e-16, -8.32050294e-01,  1.23168186e-16,  5.54700196e-01])"
            ]
          },
          "metadata": {
            "tags": []
          },
          "execution_count": 20
        }
      ]
    },
    {
      "cell_type": "code",
      "metadata": {
        "colab": {
          "base_uri": "https://localhost:8080/"
        },
        "id": "JYCB325bitfI",
        "outputId": "68929b15-1e1a-45cc-edee-6fc13ea4aaa4"
      },
      "source": [
        "np.dot(u1, u2)"
      ],
      "execution_count": null,
      "outputs": [
        {
          "output_type": "execute_result",
          "data": {
            "text/plain": [
              "-1.741861189847285e-16"
            ]
          },
          "metadata": {
            "tags": []
          },
          "execution_count": 21
        }
      ]
    },
    {
      "cell_type": "code",
      "metadata": {
        "colab": {
          "base_uri": "https://localhost:8080/"
        },
        "id": "UajrjWh7i9hB",
        "outputId": "7ab19030-8016-4ed0-8cdd-e2e9cb982e4e"
      },
      "source": [
        "np.dot(u1, u3)"
      ],
      "execution_count": null,
      "outputs": [
        {
          "output_type": "execute_result",
          "data": {
            "text/plain": [
              "-1.0146536357569526e-17"
            ]
          },
          "metadata": {
            "tags": []
          },
          "execution_count": 22
        }
      ]
    },
    {
      "cell_type": "code",
      "metadata": {
        "colab": {
          "base_uri": "https://localhost:8080/"
        },
        "id": "JtPJ6WpjjFml",
        "outputId": "08df71d4-c923-4bb8-e9a4-d3e2215de2dc"
      },
      "source": [
        "np.dot(u1, u4)"
      ],
      "execution_count": null,
      "outputs": [
        {
          "output_type": "execute_result",
          "data": {
            "text/plain": [
              "4.3370130851795835e-33"
            ]
          },
          "metadata": {
            "tags": []
          },
          "execution_count": 23
        }
      ]
    },
    {
      "cell_type": "code",
      "metadata": {
        "colab": {
          "base_uri": "https://localhost:8080/"
        },
        "id": "UnfiG9lMjP8V",
        "outputId": "92df1c40-5f62-40c3-d0f8-ae5064c9feff"
      },
      "source": [
        "np.dot(u2, u3)"
      ],
      "execution_count": null,
      "outputs": [
        {
          "output_type": "execute_result",
          "data": {
            "text/plain": [
              "-6.967444759389139e-16"
            ]
          },
          "metadata": {
            "tags": []
          },
          "execution_count": 24
        }
      ]
    },
    {
      "cell_type": "code",
      "metadata": {
        "colab": {
          "base_uri": "https://localhost:8080/"
        },
        "id": "7DdVue6rjYqi",
        "outputId": "2d764eb4-202d-4f51-db60-23ba22f76401"
      },
      "source": [
        "np.dot(u2, u4)"
      ],
      "execution_count": null,
      "outputs": [
        {
          "output_type": "execute_result",
          "data": {
            "text/plain": [
              "-1.203390859898517e-15"
            ]
          },
          "metadata": {
            "tags": []
          },
          "execution_count": 25
        }
      ]
    },
    {
      "cell_type": "code",
      "metadata": {
        "colab": {
          "base_uri": "https://localhost:8080/"
        },
        "id": "IkpfPiMVjgwF",
        "outputId": "3b63d6f3-6baa-4a3c-bfd5-05c7450a587a"
      },
      "source": [
        "np.dot(u3, u4)"
      ],
      "execution_count": null,
      "outputs": [
        {
          "output_type": "execute_result",
          "data": {
            "text/plain": [
              "8.709305949236507e-17"
            ]
          },
          "metadata": {
            "tags": []
          },
          "execution_count": 26
        }
      ]
    },
    {
      "cell_type": "code",
      "metadata": {
        "colab": {
          "base_uri": "https://localhost:8080/"
        },
        "id": "GPOIOjVZj2JS",
        "outputId": "8d4209b5-eaca-41e4-dd6b-13dd2bff2a47"
      },
      "source": [
        "np.sqrt(np.dot(u1, u1))"
      ],
      "execution_count": null,
      "outputs": [
        {
          "output_type": "execute_result",
          "data": {
            "text/plain": [
              "1.0"
            ]
          },
          "metadata": {
            "tags": []
          },
          "execution_count": 27
        }
      ]
    },
    {
      "cell_type": "code",
      "metadata": {
        "colab": {
          "base_uri": "https://localhost:8080/"
        },
        "id": "OYrITYv8kBIk",
        "outputId": "dae3c8b4-8fab-485b-c020-58f8ba8ca700"
      },
      "source": [
        "np.sqrt(np.dot(u2, u2))"
      ],
      "execution_count": null,
      "outputs": [
        {
          "output_type": "execute_result",
          "data": {
            "text/plain": [
              "1.0"
            ]
          },
          "metadata": {
            "tags": []
          },
          "execution_count": 28
        }
      ]
    },
    {
      "cell_type": "code",
      "metadata": {
        "colab": {
          "base_uri": "https://localhost:8080/"
        },
        "id": "hMo87uybkHTK",
        "outputId": "507fe43b-1694-48f9-9d19-d363edadb1ca"
      },
      "source": [
        "np.sqrt(np.dot(u3, u3))"
      ],
      "execution_count": null,
      "outputs": [
        {
          "output_type": "execute_result",
          "data": {
            "text/plain": [
              "0.9999999999999999"
            ]
          },
          "metadata": {
            "tags": []
          },
          "execution_count": 29
        }
      ]
    },
    {
      "cell_type": "code",
      "metadata": {
        "colab": {
          "base_uri": "https://localhost:8080/"
        },
        "id": "l9hegIGtkMzP",
        "outputId": "b01c73fa-fb3d-4064-85da-4f62b90e1c71"
      },
      "source": [
        "np.sqrt(np.dot(u4, u4))"
      ],
      "execution_count": null,
      "outputs": [
        {
          "output_type": "execute_result",
          "data": {
            "text/plain": [
              "1.0"
            ]
          },
          "metadata": {
            "tags": []
          },
          "execution_count": 30
        }
      ]
    }
  ]
}